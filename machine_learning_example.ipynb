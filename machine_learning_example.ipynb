{
  "nbformat": 4,
  "nbformat_minor": 0,
  "metadata": {
    "colab": {
      "provenance": []
    },
    "kernelspec": {
      "name": "python3",
      "display_name": "Python 3"
    },
    "language_info": {
      "name": "python"
    }
  },
  "cells": [
    {
      "cell_type": "markdown",
      "source": [
        "# Should you wear a coat today?"
      ],
      "metadata": {
        "id": "ewo5EasTJnUA"
      }
    },
    {
      "cell_type": "markdown",
      "source": [
        "This notebook contains code that creates a simple machine learning model that helps the user decide whether if they should wear a coat today.\n",
        "\n",
        "The model takes the following three inputs:\n",
        "\n",
        "\n",
        "*   Temperature (Celcius)\n",
        "*   Precipitation (percent)\n",
        "*   Wind speed (mph)\n",
        "\n",
        "\n",
        "Depending on the input values, the model predicts whether a coat is required and outputs a statement: \"It is TRUE/FALSE that you should wear a coat today\"\n"
      ],
      "metadata": {
        "id": "d9ehPKUt460v"
      }
    },
    {
      "cell_type": "markdown",
      "source": [
        "**Step 1**\n",
        "\n",
        "Import the packages required to make the code work"
      ],
      "metadata": {
        "id": "Q-LR1_M76TZp"
      }
    },
    {
      "cell_type": "code",
      "execution_count": null,
      "metadata": {
        "id": "6X2KYVxULf-T"
      },
      "outputs": [],
      "source": [
        "from sklearn.linear_model import LinearRegression\n",
        "from random import randint"
      ]
    },
    {
      "cell_type": "markdown",
      "source": [
        "**Step 2**\n",
        "\n",
        "Train a machine learning model by creating a fake dataset of weather conditions and whether or not a coat is required"
      ],
      "metadata": {
        "id": "yGVAbQCN8s7e"
      }
    },
    {
      "cell_type": "code",
      "source": [
        "# Set some limits for the maximum temperature (C), precipitation probability (%), and wind speed (mph)\n",
        "TEMPERATURE_LIMIT = 40\n",
        "PRECIPITATION_CHANCE_LIMIT = 100\n",
        "WIND_SPEED_LIMIT = 70\n",
        "\n",
        "# Set a limit for the number of rows you want to create in your fake dataset\n",
        "DATASET_ROWS = 1000\n",
        "\n",
        "# Create two empty lists, one for the weather conditions (TRAINING_INPUT) and one for the coat requirement (TRAINING_OUTPUT)\n",
        "TRAINING_INPUT = list()\n",
        "TRAINING_OUTPUT = list()\n",
        "\n",
        "# Create the fake dataset using a 'for loop'\n",
        "# A for loop takes the code written below it and repeats it a given number of times\n",
        "# In this example, the for loop will run the code it contains 1000 times, as that is how big DATASET_ROWS is\n",
        "for i in range(DATASET_ROWS):\n",
        "\n",
        "    # define the three weather conditions using a random number generator and the limits you have defined above\n",
        "    # e.g. temp_c is a random number between 0 and 40\n",
        "    temp_c = randint(0, TEMPERATURE_LIMIT)\n",
        "    precip_percent = randint(0, PRECIPITATION_CHANCE_LIMIT)\n",
        "    wind_mph = randint(0, WIND_SPEED_LIMIT)\n",
        "\n",
        "    # the weather conditions are summed and made into a score\n",
        "    # a higher score means the weather is worse (colder temperature, greater chance of rain, and higher winds)\n",
        "    weather_conditions_score = (TEMPERATURE_LIMIT-temp_c) + precip_percent + wind_mph\n",
        "\n",
        "    # if the sum of the weather conditions is greater than 110 (an arbitrary number chosen by me), then wear_coat is given a value of 1\n",
        "    if weather_conditions_score >= 110:\n",
        "        wear_coat = 1\n",
        "    else:\n",
        "    # if the sum of the weather conditions is less than 110, then wear_coat is given a value of -1\n",
        "        wear_coat = -1\n",
        "\n",
        "    # the fake weather conditions are added to the TRAINING_INOUT list defined before the for loop\n",
        "    TRAINING_INPUT.append([temp_c, precip_percent, wind_mph])\n",
        "\n",
        "    # for the fake weather conditions, whether or not a coat is reauired is added to the TRAINING_OUTPUT list defined before the for loop\n",
        "    TRAINING_OUTPUT.append(wear_coat)\n",
        "\n",
        "\n",
        "# This code lies outside of the above for loop, so runs after the for loop has finished\n",
        "# Create the machine learning model and give it the TRAINING_INPUT and TRAINING_OUTPUT lists\n",
        "predictor = LinearRegression(n_jobs=-1)\n",
        "predictor.fit(X=TRAINING_INPUT, y=TRAINING_OUTPUT)"
      ],
      "metadata": {
        "id": "ZT6cLm6xM4X3",
        "colab": {
          "base_uri": "https://localhost:8080/",
          "height": 74
        },
        "outputId": "1d4ad32d-d1b4-4139-da44-2d4242e01709"
      },
      "execution_count": null,
      "outputs": [
        {
          "output_type": "execute_result",
          "data": {
            "text/plain": [
              "LinearRegression(n_jobs=-1)"
            ],
            "text/html": [
              "<style>#sk-container-id-1 {color: black;background-color: white;}#sk-container-id-1 pre{padding: 0;}#sk-container-id-1 div.sk-toggleable {background-color: white;}#sk-container-id-1 label.sk-toggleable__label {cursor: pointer;display: block;width: 100%;margin-bottom: 0;padding: 0.3em;box-sizing: border-box;text-align: center;}#sk-container-id-1 label.sk-toggleable__label-arrow:before {content: \"▸\";float: left;margin-right: 0.25em;color: #696969;}#sk-container-id-1 label.sk-toggleable__label-arrow:hover:before {color: black;}#sk-container-id-1 div.sk-estimator:hover label.sk-toggleable__label-arrow:before {color: black;}#sk-container-id-1 div.sk-toggleable__content {max-height: 0;max-width: 0;overflow: hidden;text-align: left;background-color: #f0f8ff;}#sk-container-id-1 div.sk-toggleable__content pre {margin: 0.2em;color: black;border-radius: 0.25em;background-color: #f0f8ff;}#sk-container-id-1 input.sk-toggleable__control:checked~div.sk-toggleable__content {max-height: 200px;max-width: 100%;overflow: auto;}#sk-container-id-1 input.sk-toggleable__control:checked~label.sk-toggleable__label-arrow:before {content: \"▾\";}#sk-container-id-1 div.sk-estimator input.sk-toggleable__control:checked~label.sk-toggleable__label {background-color: #d4ebff;}#sk-container-id-1 div.sk-label input.sk-toggleable__control:checked~label.sk-toggleable__label {background-color: #d4ebff;}#sk-container-id-1 input.sk-hidden--visually {border: 0;clip: rect(1px 1px 1px 1px);clip: rect(1px, 1px, 1px, 1px);height: 1px;margin: -1px;overflow: hidden;padding: 0;position: absolute;width: 1px;}#sk-container-id-1 div.sk-estimator {font-family: monospace;background-color: #f0f8ff;border: 1px dotted black;border-radius: 0.25em;box-sizing: border-box;margin-bottom: 0.5em;}#sk-container-id-1 div.sk-estimator:hover {background-color: #d4ebff;}#sk-container-id-1 div.sk-parallel-item::after {content: \"\";width: 100%;border-bottom: 1px solid gray;flex-grow: 1;}#sk-container-id-1 div.sk-label:hover label.sk-toggleable__label {background-color: #d4ebff;}#sk-container-id-1 div.sk-serial::before {content: \"\";position: absolute;border-left: 1px solid gray;box-sizing: border-box;top: 0;bottom: 0;left: 50%;z-index: 0;}#sk-container-id-1 div.sk-serial {display: flex;flex-direction: column;align-items: center;background-color: white;padding-right: 0.2em;padding-left: 0.2em;position: relative;}#sk-container-id-1 div.sk-item {position: relative;z-index: 1;}#sk-container-id-1 div.sk-parallel {display: flex;align-items: stretch;justify-content: center;background-color: white;position: relative;}#sk-container-id-1 div.sk-item::before, #sk-container-id-1 div.sk-parallel-item::before {content: \"\";position: absolute;border-left: 1px solid gray;box-sizing: border-box;top: 0;bottom: 0;left: 50%;z-index: -1;}#sk-container-id-1 div.sk-parallel-item {display: flex;flex-direction: column;z-index: 1;position: relative;background-color: white;}#sk-container-id-1 div.sk-parallel-item:first-child::after {align-self: flex-end;width: 50%;}#sk-container-id-1 div.sk-parallel-item:last-child::after {align-self: flex-start;width: 50%;}#sk-container-id-1 div.sk-parallel-item:only-child::after {width: 0;}#sk-container-id-1 div.sk-dashed-wrapped {border: 1px dashed gray;margin: 0 0.4em 0.5em 0.4em;box-sizing: border-box;padding-bottom: 0.4em;background-color: white;}#sk-container-id-1 div.sk-label label {font-family: monospace;font-weight: bold;display: inline-block;line-height: 1.2em;}#sk-container-id-1 div.sk-label-container {text-align: center;}#sk-container-id-1 div.sk-container {/* jupyter's `normalize.less` sets `[hidden] { display: none; }` but bootstrap.min.css set `[hidden] { display: none !important; }` so we also need the `!important` here to be able to override the default hidden behavior on the sphinx rendered scikit-learn.org. See: https://github.com/scikit-learn/scikit-learn/issues/21755 */display: inline-block !important;position: relative;}#sk-container-id-1 div.sk-text-repr-fallback {display: none;}</style><div id=\"sk-container-id-1\" class=\"sk-top-container\"><div class=\"sk-text-repr-fallback\"><pre>LinearRegression(n_jobs=-1)</pre><b>In a Jupyter environment, please rerun this cell to show the HTML representation or trust the notebook. <br />On GitHub, the HTML representation is unable to render, please try loading this page with nbviewer.org.</b></div><div class=\"sk-container\" hidden><div class=\"sk-item\"><div class=\"sk-estimator sk-toggleable\"><input class=\"sk-toggleable__control sk-hidden--visually\" id=\"sk-estimator-id-1\" type=\"checkbox\" checked><label for=\"sk-estimator-id-1\" class=\"sk-toggleable__label sk-toggleable__label-arrow\">LinearRegression</label><div class=\"sk-toggleable__content\"><pre>LinearRegression(n_jobs=-1)</pre></div></div></div></div></div>"
            ]
          },
          "metadata": {},
          "execution_count": 2
        }
      ]
    },
    {
      "cell_type": "markdown",
      "source": [
        "![image.png](data:image/png;base64,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)"
      ],
      "metadata": {
        "id": "4FOgiU_yBHl9"
      }
    },
    {
      "cell_type": "markdown",
      "source": [
        "**Step 3**\n",
        "\n",
        "Ask the user to define the weather conditions\n",
        "\n",
        "Call the machine learning model and ask it to predict whether a coat is required for the weather conditions defined by the user"
      ],
      "metadata": {
        "id": "iSCb2pjtBbIb"
      }
    },
    {
      "cell_type": "code",
      "source": [
        "# Ask the user to input values for temperature, precipitation, and wind speed\n",
        "temp = int(input('input temperature (celcius): '))\n",
        "precip = int(input('input precipitation (percent): '))\n",
        "wind = int(input('input wind speed (mph): '))\n",
        "\n",
        "# Create a variable called TEST that contains the weather conditions defined by the user\n",
        "# float() makes sure the values given by the user are read by the code as integer numbers\n",
        "TEST = [[temp, precip, wind]]\n",
        "\n",
        "# Create an outcome by calling the machine learning model and asking it to make a pediction on TEST\n",
        "outcome = predictor.predict(TEST)\n",
        "\n",
        "if outcome > 0:\n",
        "  answer = True\n",
        "else:\n",
        "  answer = False\n",
        "\n",
        "# Print out the answer to the user's question\n",
        "print(f'Outcome : {outcome} \\n Given the weather conditions you provided: \\n Temperature: {temp}C \\n Precipitation: {precip}% \\n Wind Speed: {wind}mph \\n\\n It is {answer} that you should wear a coat today')"
      ],
      "metadata": {
        "colab": {
          "base_uri": "https://localhost:8080/"
        },
        "id": "MO1Zx3D9Mth3",
        "outputId": "d963ee2e-b7e8-4c82-ef5d-decf5592ed5c"
      },
      "execution_count": null,
      "outputs": [
        {
          "output_type": "stream",
          "name": "stdout",
          "text": [
            "input temperature (celcius): 12\n",
            "input precipitation (percent): 34\n",
            "input wind speed (mph): 9\n",
            "Outcome : [-0.76134108] \n",
            " Given the weather conditions you provided: \n",
            " Temperature: 12C \n",
            " Precipitation: 34% \n",
            " Wind Speed: 9mph \n",
            "\n",
            " It is False that you should wear a coat today\n"
          ]
        }
      ]
    },
    {
      "cell_type": "markdown",
      "source": [
        "**Step 4**\n",
        "\n",
        "You can start to take this application further\n",
        "\n",
        "Even on warm days with low wind speed, if there is a decent chance that there will be rain the user would probably be better of taking a coat with them\n",
        "\n",
        "You can make modifications to the code that allow for cases like this:"
      ],
      "metadata": {
        "id": "kLjm7OUaE8k_"
      }
    },
    {
      "cell_type": "code",
      "source": [
        "temp = int(input('input temperature (celcius): '))\n",
        "precip = int(input('input precipitation (percent): '))\n",
        "wind = int(input('input wind speed (mph): '))\n",
        "\n",
        "TEST = [[temp, precip, wind]]\n",
        "outcome = predictor.predict(TEST)\n",
        "\n",
        "if outcome > 0:\n",
        "  answer = True\n",
        "# if the chance of precipitation is greater than 50%, override the model's output and tell the user to take a coat with them\n",
        "elif precip > 50:\n",
        "  answer = True\n",
        "else:\n",
        "  answer = False\n",
        "\n",
        "print(f'\\n\\n Outcome : {outcome} \\n Given the weather conditions you provided: \\n Temperature: {temp}C \\n Precipitation: {precip}% \\n Wind Speed: {wind}mph \\n\\n It is {answer} that you should wear a coat today')"
      ],
      "metadata": {
        "colab": {
          "base_uri": "https://localhost:8080/"
        },
        "id": "FwFKu1pq8ELk",
        "outputId": "3757235f-cbed-42ee-d811-e84cd9fa08f6"
      },
      "execution_count": null,
      "outputs": [
        {
          "output_type": "stream",
          "name": "stdout",
          "text": [
            "input temperature (celcius): 12\n",
            "input precipitation (percent): 79\n",
            "input wind speed (mph): 2\n",
            "\n",
            "\n",
            " Outcome : [0.09529519] \n",
            " Given the weather conditions you provided: \n",
            " Temperature: 12C \n",
            " Precipitation: 79% \n",
            " Wind Speed: 2mph \n",
            "\n",
            " It is True that you should wear a coat today\n"
          ]
        }
      ]
    },
    {
      "cell_type": "markdown",
      "source": [
        "# Taking this code to your team"
      ],
      "metadata": {
        "id": "wLca8cnBJy2f"
      }
    },
    {
      "cell_type": "markdown",
      "source": [
        "This machine learning model does not serve a great purpose, as people are very good at looking out of the window and deciding on whether or not they will need a coat!\n",
        "\n",
        "But the basics of the code are applicable to other, more complicated situations. For example, what if you had the call centre records and complaint history for 500,000 customers and wanted to create a model from this data that will help prioritise customers who seem likely to raise a complaint?\n",
        "\n",
        "Data such as:\n",
        "\n",
        "*   the number of times the customer has called us,\n",
        "*   how long the customer has waited to get through,\n",
        "*   the topics the customer wants to speak to us about,\n",
        "*   the tone of the customer's interaction\n",
        "\n",
        "becomes the TRAINING_INPUT data for a machine learning model, and whether or not the customer raised a complaint after their interaction with us becomes the TRAINING_OUTPUT data for the model.\n",
        "\n",
        "The model can then be asked to predict if, based on call history, wait time, topic, and tone, a given customer is at risk of raising a complaint.\n",
        "\n"
      ],
      "metadata": {
        "id": "JAuWx9nYG3X7"
      }
    },
    {
      "cell_type": "markdown",
      "source": [
        "To get started, you need just three things:\n",
        "1. *A dataset* - you should remove any PII or bias from your data\n",
        "2. *Some infrastructure* - this can be as simple as a Google Colab notebook, like this one\n",
        "3. *A goal* - what would you like the machine learning model to help you understand?"
      ],
      "metadata": {
        "id": "rzaZ8-5UJ-DR"
      }
    }
  ]
}